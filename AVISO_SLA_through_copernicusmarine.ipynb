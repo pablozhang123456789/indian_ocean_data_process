{
 "cells": [
  {
   "cell_type": "markdown",
   "id": "dffeb956",
   "metadata": {},
   "source": [
    "# 还是用copernicusmarine吧"
   ]
  },
  {
   "cell_type": "code",
   "execution_count": 1,
   "id": "6bda05cb",
   "metadata": {},
   "outputs": [
    {
     "name": "stderr",
     "output_type": "stream",
     "text": [
      "c:\\Users\\Admin\\anaconda3\\envs\\copernicusmarine\\lib\\site-packages\\tqdm\\auto.py:21: TqdmWarning: IProgress not found. Please update jupyter and ipywidgets. See https://ipywidgets.readthedocs.io/en/stable/user_install.html\n",
      "  from .autonotebook import tqdm as notebook_tqdm\n",
      "Fetching catalog:  67%|██████▋   | 2/3 [01:03<00:26, 26.12s/it]INFO - 2025-04-26T11:33:38Z - Dataset version was not specified, the latest one was selected: \"202411\"\n",
      "INFO - 2025-04-26T11:33:38Z - Dataset part was not specified, the first one was selected: \"default\"\n",
      "INFO - 2025-04-26T11:33:45Z - Service was not specified, the default one was selected: \"arco-geo-series\"\n",
      "INFO - 2025-04-26T11:33:51Z - Downloading using service arco-geo-series...\n",
      "INFO - 2025-04-26T11:33:57Z - Estimated size of the dataset file is 23.421 MB.\n",
      "INFO - 2025-04-26T11:33:57Z - Writing to local storage. Please wait...\n",
      "100%|██████████| 86/86 [00:06<00:00, 12.36it/s]\n",
      "INFO - 2025-04-26T11:34:04Z - Successfully downloaded to D:\\AVISO_SLA_copernicusmarine\\SLA_2001.nc\n"
     ]
    },
    {
     "name": "stdout",
     "output_type": "stream",
     "text": [
      " data in 2001year has been downloaded...\n"
     ]
    },
    {
     "name": "stderr",
     "output_type": "stream",
     "text": [
      "INFO - 2025-04-26T11:34:06Z - Dataset version was not specified, the latest one was selected: \"202411\"\n",
      "INFO - 2025-04-26T11:34:06Z - Dataset part was not specified, the first one was selected: \"default\"\n",
      "INFO - 2025-04-26T11:34:12Z - Service was not specified, the default one was selected: \"arco-geo-series\"\n",
      "INFO - 2025-04-26T11:34:18Z - Downloading using service arco-geo-series...\n",
      "INFO - 2025-04-26T11:34:24Z - Estimated size of the dataset file is 23.421 MB.\n",
      "INFO - 2025-04-26T11:34:24Z - Writing to local storage. Please wait...\n",
      "100%|██████████| 86/86 [00:07<00:00, 12.13it/s]\n",
      "INFO - 2025-04-26T11:34:31Z - Successfully downloaded to D:\\AVISO_SLA_copernicusmarine\\SLA_2002.nc\n"
     ]
    },
    {
     "name": "stdout",
     "output_type": "stream",
     "text": [
      " data in 2002year has been downloaded...\n"
     ]
    },
    {
     "name": "stderr",
     "output_type": "stream",
     "text": [
      "INFO - 2025-04-26T11:34:33Z - Dataset version was not specified, the latest one was selected: \"202411\"\n",
      "INFO - 2025-04-26T11:34:33Z - Dataset part was not specified, the first one was selected: \"default\"\n",
      "INFO - 2025-04-26T11:34:40Z - Service was not specified, the default one was selected: \"arco-geo-series\"\n",
      "INFO - 2025-04-26T11:34:45Z - Downloading using service arco-geo-series...\n",
      "INFO - 2025-04-26T11:34:51Z - Estimated size of the dataset file is 23.421 MB.\n",
      "INFO - 2025-04-26T11:34:51Z - Writing to local storage. Please wait...\n",
      "100%|██████████| 86/86 [00:07<00:00, 11.91it/s]\n",
      "INFO - 2025-04-26T11:34:58Z - Successfully downloaded to D:\\AVISO_SLA_copernicusmarine\\SLA_2003.nc\n"
     ]
    },
    {
     "name": "stdout",
     "output_type": "stream",
     "text": [
      " data in 2003year has been downloaded...\n"
     ]
    },
    {
     "name": "stderr",
     "output_type": "stream",
     "text": [
      "INFO - 2025-04-26T11:35:00Z - Dataset version was not specified, the latest one was selected: \"202411\"\n",
      "INFO - 2025-04-26T11:35:00Z - Dataset part was not specified, the first one was selected: \"default\"\n",
      "INFO - 2025-04-26T11:35:06Z - Service was not specified, the default one was selected: \"arco-geo-series\"\n",
      "INFO - 2025-04-26T11:35:12Z - Downloading using service arco-geo-series...\n",
      "INFO - 2025-04-26T11:35:18Z - Estimated size of the dataset file is 23.421 MB.\n",
      "INFO - 2025-04-26T11:35:18Z - Writing to local storage. Please wait...\n",
      "100%|██████████| 86/86 [00:07<00:00, 12.18it/s]\n",
      "INFO - 2025-04-26T11:35:25Z - Successfully downloaded to D:\\AVISO_SLA_copernicusmarine\\SLA_2004.nc\n"
     ]
    },
    {
     "name": "stdout",
     "output_type": "stream",
     "text": [
      " data in 2004year has been downloaded...\n"
     ]
    },
    {
     "name": "stderr",
     "output_type": "stream",
     "text": [
      "INFO - 2025-04-26T11:35:27Z - Dataset version was not specified, the latest one was selected: \"202411\"\n",
      "INFO - 2025-04-26T11:35:27Z - Dataset part was not specified, the first one was selected: \"default\"\n",
      "INFO - 2025-04-26T11:35:33Z - Service was not specified, the default one was selected: \"arco-geo-series\"\n",
      "INFO - 2025-04-26T11:35:38Z - Downloading using service arco-geo-series...\n",
      "INFO - 2025-04-26T11:35:44Z - Estimated size of the dataset file is 23.421 MB.\n",
      "INFO - 2025-04-26T11:35:44Z - Writing to local storage. Please wait...\n",
      "100%|██████████| 86/86 [00:06<00:00, 12.97it/s]\n",
      "INFO - 2025-04-26T11:35:51Z - Successfully downloaded to D:\\AVISO_SLA_copernicusmarine\\SLA_2005.nc\n"
     ]
    },
    {
     "name": "stdout",
     "output_type": "stream",
     "text": [
      " data in 2005year has been downloaded...\n"
     ]
    },
    {
     "name": "stderr",
     "output_type": "stream",
     "text": [
      "INFO - 2025-04-26T11:35:53Z - Dataset version was not specified, the latest one was selected: \"202411\"\n",
      "INFO - 2025-04-26T11:35:53Z - Dataset part was not specified, the first one was selected: \"default\"\n",
      "INFO - 2025-04-26T11:35:59Z - Service was not specified, the default one was selected: \"arco-geo-series\"\n",
      "INFO - 2025-04-26T11:36:05Z - Downloading using service arco-geo-series...\n",
      "INFO - 2025-04-26T11:36:11Z - Estimated size of the dataset file is 23.421 MB.\n",
      "INFO - 2025-04-26T11:36:11Z - Writing to local storage. Please wait...\n",
      "100%|██████████| 86/86 [00:06<00:00, 13.04it/s]\n",
      "INFO - 2025-04-26T11:36:18Z - Successfully downloaded to D:\\AVISO_SLA_copernicusmarine\\SLA_2006.nc\n"
     ]
    },
    {
     "name": "stdout",
     "output_type": "stream",
     "text": [
      " data in 2006year has been downloaded...\n"
     ]
    },
    {
     "name": "stderr",
     "output_type": "stream",
     "text": [
      "INFO - 2025-04-26T11:36:20Z - Dataset version was not specified, the latest one was selected: \"202411\"\n",
      "INFO - 2025-04-26T11:36:20Z - Dataset part was not specified, the first one was selected: \"default\"\n",
      "INFO - 2025-04-26T11:36:26Z - Service was not specified, the default one was selected: \"arco-geo-series\"\n",
      "INFO - 2025-04-26T11:36:31Z - Downloading using service arco-geo-series...\n",
      "INFO - 2025-04-26T11:36:37Z - Estimated size of the dataset file is 23.421 MB.\n",
      "INFO - 2025-04-26T11:36:37Z - Writing to local storage. Please wait...\n",
      "100%|██████████| 86/86 [00:07<00:00, 12.13it/s]\n",
      "INFO - 2025-04-26T11:36:44Z - Successfully downloaded to D:\\AVISO_SLA_copernicusmarine\\SLA_2007.nc\n"
     ]
    },
    {
     "name": "stdout",
     "output_type": "stream",
     "text": [
      " data in 2007year has been downloaded...\n"
     ]
    },
    {
     "name": "stderr",
     "output_type": "stream",
     "text": [
      "INFO - 2025-04-26T11:36:46Z - Dataset version was not specified, the latest one was selected: \"202411\"\n",
      "INFO - 2025-04-26T11:36:46Z - Dataset part was not specified, the first one was selected: \"default\"\n",
      "INFO - 2025-04-26T11:36:52Z - Service was not specified, the default one was selected: \"arco-geo-series\"\n",
      "INFO - 2025-04-26T11:36:58Z - Downloading using service arco-geo-series...\n",
      "INFO - 2025-04-26T11:37:04Z - Estimated size of the dataset file is 23.421 MB.\n",
      "INFO - 2025-04-26T11:37:04Z - Writing to local storage. Please wait...\n",
      "100%|██████████| 86/86 [00:07<00:00, 12.21it/s]\n",
      "INFO - 2025-04-26T11:37:11Z - Successfully downloaded to D:\\AVISO_SLA_copernicusmarine\\SLA_2008.nc\n"
     ]
    },
    {
     "name": "stdout",
     "output_type": "stream",
     "text": [
      " data in 2008year has been downloaded...\n"
     ]
    },
    {
     "name": "stderr",
     "output_type": "stream",
     "text": [
      "INFO - 2025-04-26T11:37:13Z - Dataset version was not specified, the latest one was selected: \"202411\"\n",
      "INFO - 2025-04-26T11:37:13Z - Dataset part was not specified, the first one was selected: \"default\"\n",
      "INFO - 2025-04-26T11:37:19Z - Service was not specified, the default one was selected: \"arco-geo-series\"\n",
      "INFO - 2025-04-26T11:37:24Z - Downloading using service arco-geo-series...\n",
      "INFO - 2025-04-26T11:37:30Z - Estimated size of the dataset file is 23.421 MB.\n",
      "INFO - 2025-04-26T11:37:30Z - Writing to local storage. Please wait...\n",
      "100%|██████████| 86/86 [00:07<00:00, 11.12it/s]\n",
      "INFO - 2025-04-26T11:37:38Z - Successfully downloaded to D:\\AVISO_SLA_copernicusmarine\\SLA_2009.nc\n"
     ]
    },
    {
     "name": "stdout",
     "output_type": "stream",
     "text": [
      " data in 2009year has been downloaded...\n"
     ]
    },
    {
     "name": "stderr",
     "output_type": "stream",
     "text": [
      "INFO - 2025-04-26T11:37:40Z - Dataset version was not specified, the latest one was selected: \"202411\"\n",
      "INFO - 2025-04-26T11:37:40Z - Dataset part was not specified, the first one was selected: \"default\"\n",
      "INFO - 2025-04-26T11:37:46Z - Service was not specified, the default one was selected: \"arco-geo-series\"\n",
      "INFO - 2025-04-26T11:37:52Z - Downloading using service arco-geo-series...\n",
      "INFO - 2025-04-26T11:37:58Z - Estimated size of the dataset file is 23.421 MB.\n",
      "INFO - 2025-04-26T11:37:58Z - Writing to local storage. Please wait...\n",
      "100%|██████████| 86/86 [00:06<00:00, 12.81it/s]\n",
      "INFO - 2025-04-26T11:38:04Z - Successfully downloaded to D:\\AVISO_SLA_copernicusmarine\\SLA_2010.nc\n"
     ]
    },
    {
     "name": "stdout",
     "output_type": "stream",
     "text": [
      " data in 2010year has been downloaded...\n"
     ]
    },
    {
     "name": "stderr",
     "output_type": "stream",
     "text": [
      "INFO - 2025-04-26T11:38:06Z - Dataset version was not specified, the latest one was selected: \"202411\"\n",
      "INFO - 2025-04-26T11:38:06Z - Dataset part was not specified, the first one was selected: \"default\"\n",
      "INFO - 2025-04-26T11:38:12Z - Service was not specified, the default one was selected: \"arco-geo-series\"\n",
      "INFO - 2025-04-26T11:38:18Z - Downloading using service arco-geo-series...\n",
      "INFO - 2025-04-26T11:38:24Z - Estimated size of the dataset file is 23.421 MB.\n",
      "INFO - 2025-04-26T11:38:24Z - Writing to local storage. Please wait...\n",
      "100%|██████████| 86/86 [00:07<00:00, 12.00it/s]\n",
      "INFO - 2025-04-26T11:38:31Z - Successfully downloaded to D:\\AVISO_SLA_copernicusmarine\\SLA_2011.nc\n"
     ]
    },
    {
     "name": "stdout",
     "output_type": "stream",
     "text": [
      " data in 2011year has been downloaded...\n"
     ]
    },
    {
     "name": "stderr",
     "output_type": "stream",
     "text": [
      "INFO - 2025-04-26T11:38:33Z - Dataset version was not specified, the latest one was selected: \"202411\"\n",
      "INFO - 2025-04-26T11:38:33Z - Dataset part was not specified, the first one was selected: \"default\"\n",
      "INFO - 2025-04-26T11:38:39Z - Service was not specified, the default one was selected: \"arco-geo-series\"\n",
      "INFO - 2025-04-26T11:38:45Z - Downloading using service arco-geo-series...\n",
      "INFO - 2025-04-26T11:38:51Z - Estimated size of the dataset file is 23.421 MB.\n",
      "INFO - 2025-04-26T11:38:51Z - Writing to local storage. Please wait...\n",
      "100%|██████████| 86/86 [00:33<00:00,  2.59it/s]\n",
      "INFO - 2025-04-26T11:39:24Z - Successfully downloaded to D:\\AVISO_SLA_copernicusmarine\\SLA_2012.nc\n"
     ]
    },
    {
     "name": "stdout",
     "output_type": "stream",
     "text": [
      " data in 2012year has been downloaded...\n"
     ]
    },
    {
     "name": "stderr",
     "output_type": "stream",
     "text": [
      "INFO - 2025-04-26T11:39:26Z - Dataset version was not specified, the latest one was selected: \"202411\"\n",
      "INFO - 2025-04-26T11:39:26Z - Dataset part was not specified, the first one was selected: \"default\"\n",
      "INFO - 2025-04-26T11:39:32Z - Service was not specified, the default one was selected: \"arco-geo-series\"\n",
      "INFO - 2025-04-26T11:39:37Z - Downloading using service arco-geo-series...\n",
      "INFO - 2025-04-26T11:39:44Z - Estimated size of the dataset file is 23.421 MB.\n",
      "INFO - 2025-04-26T11:39:44Z - Writing to local storage. Please wait...\n",
      "100%|██████████| 86/86 [00:06<00:00, 13.47it/s]\n",
      "INFO - 2025-04-26T11:39:50Z - Successfully downloaded to D:\\AVISO_SLA_copernicusmarine\\SLA_2013.nc\n"
     ]
    },
    {
     "name": "stdout",
     "output_type": "stream",
     "text": [
      " data in 2013year has been downloaded...\n"
     ]
    },
    {
     "name": "stderr",
     "output_type": "stream",
     "text": [
      "INFO - 2025-04-26T11:39:52Z - Dataset version was not specified, the latest one was selected: \"202411\"\n",
      "INFO - 2025-04-26T11:39:52Z - Dataset part was not specified, the first one was selected: \"default\"\n",
      "INFO - 2025-04-26T11:39:58Z - Service was not specified, the default one was selected: \"arco-geo-series\"\n",
      "INFO - 2025-04-26T11:40:04Z - Downloading using service arco-geo-series...\n",
      "INFO - 2025-04-26T11:40:10Z - Estimated size of the dataset file is 23.421 MB.\n",
      "INFO - 2025-04-26T11:40:10Z - Writing to local storage. Please wait...\n",
      "100%|██████████| 86/86 [00:06<00:00, 12.50it/s]\n",
      "INFO - 2025-04-26T11:40:17Z - Successfully downloaded to D:\\AVISO_SLA_copernicusmarine\\SLA_2014.nc\n"
     ]
    },
    {
     "name": "stdout",
     "output_type": "stream",
     "text": [
      " data in 2014year has been downloaded...\n"
     ]
    },
    {
     "name": "stderr",
     "output_type": "stream",
     "text": [
      "INFO - 2025-04-26T11:40:19Z - Dataset version was not specified, the latest one was selected: \"202411\"\n",
      "INFO - 2025-04-26T11:40:19Z - Dataset part was not specified, the first one was selected: \"default\"\n",
      "INFO - 2025-04-26T11:40:25Z - Service was not specified, the default one was selected: \"arco-geo-series\"\n",
      "INFO - 2025-04-26T11:40:31Z - Downloading using service arco-geo-series...\n",
      "INFO - 2025-04-26T11:40:36Z - Estimated size of the dataset file is 23.421 MB.\n",
      "INFO - 2025-04-26T11:40:36Z - Writing to local storage. Please wait...\n",
      "100%|██████████| 86/86 [00:06<00:00, 13.11it/s]\n",
      "INFO - 2025-04-26T11:40:43Z - Successfully downloaded to D:\\AVISO_SLA_copernicusmarine\\SLA_2015.nc\n"
     ]
    },
    {
     "name": "stdout",
     "output_type": "stream",
     "text": [
      " data in 2015year has been downloaded...\n"
     ]
    },
    {
     "name": "stderr",
     "output_type": "stream",
     "text": [
      "INFO - 2025-04-26T11:40:45Z - Dataset version was not specified, the latest one was selected: \"202411\"\n",
      "INFO - 2025-04-26T11:40:45Z - Dataset part was not specified, the first one was selected: \"default\"\n",
      "INFO - 2025-04-26T11:40:51Z - Service was not specified, the default one was selected: \"arco-geo-series\"\n",
      "INFO - 2025-04-26T11:40:56Z - Downloading using service arco-geo-series...\n",
      "INFO - 2025-04-26T11:41:02Z - Estimated size of the dataset file is 23.421 MB.\n",
      "INFO - 2025-04-26T11:41:02Z - Writing to local storage. Please wait...\n",
      "100%|██████████| 86/86 [00:06<00:00, 12.93it/s]\n",
      "INFO - 2025-04-26T11:41:09Z - Successfully downloaded to D:\\AVISO_SLA_copernicusmarine\\SLA_2016.nc\n"
     ]
    },
    {
     "name": "stdout",
     "output_type": "stream",
     "text": [
      " data in 2016year has been downloaded...\n"
     ]
    },
    {
     "name": "stderr",
     "output_type": "stream",
     "text": [
      "INFO - 2025-04-26T11:41:11Z - Dataset version was not specified, the latest one was selected: \"202411\"\n",
      "INFO - 2025-04-26T11:41:11Z - Dataset part was not specified, the first one was selected: \"default\"\n",
      "INFO - 2025-04-26T11:41:17Z - Service was not specified, the default one was selected: \"arco-geo-series\"\n",
      "INFO - 2025-04-26T11:41:23Z - Downloading using service arco-geo-series...\n",
      "INFO - 2025-04-26T11:41:28Z - Estimated size of the dataset file is 23.421 MB.\n",
      "INFO - 2025-04-26T11:41:28Z - Writing to local storage. Please wait...\n",
      "100%|██████████| 86/86 [00:07<00:00, 11.82it/s]\n",
      "INFO - 2025-04-26T11:41:36Z - Successfully downloaded to D:\\AVISO_SLA_copernicusmarine\\SLA_2017.nc\n"
     ]
    },
    {
     "name": "stdout",
     "output_type": "stream",
     "text": [
      " data in 2017year has been downloaded...\n"
     ]
    },
    {
     "name": "stderr",
     "output_type": "stream",
     "text": [
      "INFO - 2025-04-26T11:41:38Z - Dataset version was not specified, the latest one was selected: \"202411\"\n",
      "INFO - 2025-04-26T11:41:38Z - Dataset part was not specified, the first one was selected: \"default\"\n",
      "INFO - 2025-04-26T11:41:44Z - Service was not specified, the default one was selected: \"arco-geo-series\"\n",
      "INFO - 2025-04-26T11:41:50Z - Downloading using service arco-geo-series...\n",
      "INFO - 2025-04-26T11:41:55Z - Estimated size of the dataset file is 23.421 MB.\n",
      "INFO - 2025-04-26T11:41:55Z - Writing to local storage. Please wait...\n",
      "100%|██████████| 86/86 [00:07<00:00, 11.68it/s]\n",
      "INFO - 2025-04-26T11:42:03Z - Successfully downloaded to D:\\AVISO_SLA_copernicusmarine\\SLA_2018.nc\n"
     ]
    },
    {
     "name": "stdout",
     "output_type": "stream",
     "text": [
      " data in 2018year has been downloaded...\n"
     ]
    },
    {
     "name": "stderr",
     "output_type": "stream",
     "text": [
      "INFO - 2025-04-26T11:42:05Z - Dataset version was not specified, the latest one was selected: \"202411\"\n",
      "INFO - 2025-04-26T11:42:05Z - Dataset part was not specified, the first one was selected: \"default\"\n",
      "INFO - 2025-04-26T11:42:11Z - Service was not specified, the default one was selected: \"arco-geo-series\"\n",
      "INFO - 2025-04-26T11:42:48Z - Downloading using service arco-geo-series...\n",
      "INFO - 2025-04-26T11:42:54Z - Estimated size of the dataset file is 23.421 MB.\n",
      "INFO - 2025-04-26T11:42:54Z - Writing to local storage. Please wait...\n",
      "100%|██████████| 86/86 [00:06<00:00, 12.60it/s]\n",
      "INFO - 2025-04-26T11:43:01Z - Successfully downloaded to D:\\AVISO_SLA_copernicusmarine\\SLA_2019.nc\n"
     ]
    },
    {
     "name": "stdout",
     "output_type": "stream",
     "text": [
      " data in 2019year has been downloaded...\n"
     ]
    },
    {
     "name": "stderr",
     "output_type": "stream",
     "text": [
      "INFO - 2025-04-26T11:43:03Z - Dataset version was not specified, the latest one was selected: \"202411\"\n",
      "INFO - 2025-04-26T11:43:03Z - Dataset part was not specified, the first one was selected: \"default\"\n",
      "INFO - 2025-04-26T11:43:09Z - Service was not specified, the default one was selected: \"arco-geo-series\"\n",
      "INFO - 2025-04-26T11:43:14Z - Downloading using service arco-geo-series...\n",
      "INFO - 2025-04-26T11:43:20Z - Estimated size of the dataset file is 23.421 MB.\n",
      "INFO - 2025-04-26T11:43:20Z - Writing to local storage. Please wait...\n",
      "100%|██████████| 86/86 [00:06<00:00, 13.91it/s]\n",
      "INFO - 2025-04-26T11:43:26Z - Successfully downloaded to D:\\AVISO_SLA_copernicusmarine\\SLA_2020.nc\n"
     ]
    },
    {
     "name": "stdout",
     "output_type": "stream",
     "text": [
      " data in 2020year has been downloaded...\n"
     ]
    }
   ],
   "source": [
    "import copernicusmarine\n",
    "for year in range(2001,2021):\n",
    "    copernicusmarine.subset(\n",
    "      username='pzhang3',\n",
    "      password='Zqj135381',\n",
    "      dataset_id=\"cmems_obs-sl_glo_phy-ssh_my_allsat-l4-duacs-0.125deg_P1M-m\",\n",
    "      variables=[\"sla\"],\n",
    "      minimum_longitude=20,\n",
    "      maximum_longitude=105,\n",
    "      minimum_latitude=-10,\n",
    "      maximum_latitude=37,\n",
    "      start_datetime=\"{}-01-01T00:00:00\".format(year),\n",
    "      end_datetime=\"{}-12-01T00:00:00\".format(year),\n",
    "      force_download=True,\n",
    "      output_filename=r'D:\\AVISO_SLA_copernicusmarine\\SLA_{}'.format(year),\n",
    "        )\n",
    "    print(' data in {}year has been downloaded...'.format(year))"
   ]
  },
  {
   "cell_type": "code",
   "execution_count": null,
   "id": "1b1c4e62",
   "metadata": {},
   "outputs": [],
   "source": []
  }
 ],
 "metadata": {
  "kernelspec": {
   "display_name": "copernicusmarine",
   "language": "python",
   "name": "python3"
  },
  "language_info": {
   "codemirror_mode": {
    "name": "ipython",
    "version": 3
   },
   "file_extension": ".py",
   "mimetype": "text/x-python",
   "name": "python",
   "nbconvert_exporter": "python",
   "pygments_lexer": "ipython3",
   "version": "3.10.15"
  }
 },
 "nbformat": 4,
 "nbformat_minor": 5
}
