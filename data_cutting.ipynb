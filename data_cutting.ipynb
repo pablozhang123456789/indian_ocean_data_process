{
 "cells": [
  {
   "cell_type": "code",
   "execution_count": 2,
   "id": "cbddd2df",
   "metadata": {},
   "outputs": [
    {
     "data": {
      "text/plain": [
       "'C:\\\\Users\\\\Admin\\\\github_upload'"
      ]
     },
     "execution_count": 2,
     "metadata": {},
     "output_type": "execute_result"
    }
   ],
   "source": [
    "import numpy as np\n",
    "from itertools import starmap\n",
    "import pandas as pd \n",
    "import xarray as xr\n",
    "from scipy.io import loadmat, savemat\n",
    "%pwd"
   ]
  },
  {
   "cell_type": "code",
   "execution_count": null,
   "id": "a8d840e5",
   "metadata": {},
   "outputs": [],
   "source": [
    "mode_parameter = loadmat(r\"D:\\metrics_io.mat\")\n",
    "xg, yg, rf = mode_parameter['xg'], mode_parameter['yg'], mode_parameter['rf'].squeeze()\n",
    "lon_all = xr.DataArray(xg[:, 1], coords=dict(lon=xg[:, 1]))\n",
    "lat_all = xr.DataArray(yg[-1, :], coords=dict(lat=yg[-1, :]))\n",
    "depth_all = xr.DataArray(rf, coords=dict(depth=-rf))\n",
    "\n",
    "time = pd.date_range('2001-01', '2020-12', freq='MS')\n",
    "year = time.year\n",
    "month = time.month\n",
    "\n",
    "def load_surface_SUVTdata(which, year, month):\n",
    "    filename = r'D:\\monthly_mean\\{}_mm_{}_{:02d}.mat'.format(which, year, month)\n",
    "    data = xr.DataArray(loadmat(filename)[which+'0'],\n",
    "                        coords=dict(lon=lon_all, lat=lat_all, depth=depth_all))\n",
    "    data = data.sel(lon=slice(40, 110), lat=slice(-15, 31), depth=0).drop_vars('depth')\n",
    "    time_point = pd.to_datetime(str(year)+'-'+'{}'.format(month))\n",
    "    data = data.expand_dims(time=[time_point])\n",
    "    lon, lat = data.lon.sel(lon=slice(40, 110)), data.lat.sel(lat=slice(-15, 31))\n",
    "    return data, lon, lat\n",
    "\n",
    "_, lon, lat = load_surface_SUVTdata('t', 2002, 1)\n",
    "\n",
    "\n",
    "for year in range(2001, 2021):\n",
    "    print(year)\n",
    "    for month in range(1, 13):\n",
    "        params = [\n",
    "            ('s', year, month), \n",
    "            ('u', year, month),\n",
    "            ('v', year, month),\n",
    "            ('t', year, month)]\n",
    "        SUVT_data = list(starmap(load_surface_SUVTdata, params)) \n",
    "        #starmap和map函数类似，可以将输入函数映射到多组输入变量。\n",
    "        SUVT_data[0][0].to_netcdf(\n",
    "            r'D:\\all_processed_data\\surface_ncdata_monthly\\{}_mm_S_{:02d}.nc'.format(year, month))\n",
    "        SUVT_data[1][0].to_netcdf(\n",
    "            r'D:\\all_processed_data\\surface_ncdata_monthly\\{}_mm_U_{:02d}.nc'.format(year, month))\n",
    "        SUVT_data[2][0].to_netcdf(\n",
    "            r'D:\\all_processed_data\\surface_ncdata_monthly\\{}_mm_V_{:02d}.nc'.format(year, month))   \n",
    "        SUVT_data[3][0].to_netcdf(\n",
    "            r'D:\\all_processed_data\\surface_ncdata_monthly\\{}_mm_T_{:02d}.nc'.format(year, month))               \n",
    " "
   ]
  }
 ],
 "metadata": {
  "kernelspec": {
   "display_name": "pytorch",
   "language": "python",
   "name": "pytorch"
  },
  "language_info": {
   "codemirror_mode": {
    "name": "ipython",
    "version": 3
   },
   "file_extension": ".py",
   "mimetype": "text/x-python",
   "name": "python",
   "nbconvert_exporter": "python",
   "pygments_lexer": "ipython3",
   "version": "3.9.20"
  },
  "varInspector": {
   "cols": {
    "lenName": 16,
    "lenType": 16,
    "lenVar": 40
   },
   "kernels_config": {
    "python": {
     "delete_cmd_postfix": "",
     "delete_cmd_prefix": "del ",
     "library": "var_list.py",
     "varRefreshCmd": "print(var_dic_list())"
    },
    "r": {
     "delete_cmd_postfix": ") ",
     "delete_cmd_prefix": "rm(",
     "library": "var_list.r",
     "varRefreshCmd": "cat(var_dic_list()) "
    }
   },
   "types_to_exclude": [
    "module",
    "function",
    "builtin_function_or_method",
    "instance",
    "_Feature"
   ],
   "window_display": false
  }
 },
 "nbformat": 4,
 "nbformat_minor": 5
}
